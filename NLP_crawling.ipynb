{
  "nbformat": 4,
  "nbformat_minor": 0,
  "metadata": {
    "colab": {
      "name": "NLP_crawling.ipynb",
      "provenance": [],
      "authorship_tag": "ABX9TyPD0sX8CGIPjwHEx3ySqhTK",
      "include_colab_link": true
    },
    "kernelspec": {
      "display_name": "Python 3",
      "name": "python3"
    },
    "language_info": {
      "name": "python"
    }
  },
  "cells": [
    {
      "cell_type": "markdown",
      "metadata": {
        "id": "view-in-github",
        "colab_type": "text"
      },
      "source": [
        "<a href=\"https://colab.research.google.com/github/us98/DB/blob/master/NLP_crawling.ipynb\" target=\"_parent\"><img src=\"https://colab.research.google.com/assets/colab-badge.svg\" alt=\"Open In Colab\"/></a>"
      ]
    },
    {
      "cell_type": "markdown",
      "metadata": {
        "id": "44UAlXF26H67"
      },
      "source": [
        "Kelompok 2 - Crawling"
      ]
    },
    {
      "cell_type": "code",
      "metadata": {
        "id": "bqpXaMaMfN65"
      },
      "source": [
        "from bs4 import BeautifulSoup\n",
        "import requests"
      ],
      "execution_count": 38,
      "outputs": []
    },
    {
      "cell_type": "code",
      "metadata": {
        "id": "JWYdUMqIfRJ1"
      },
      "source": [
        "# URL\n",
        "url1 = \"https://news.detik.com/berita/d-5550763/pemerintah-nyatakan-kkb-papua-sebagai-teroris\"\n",
        "url2 = \"https://www.viva.co.id/berita/nasional/1368825-pemerintah-resmi-nyatakan-kkb-papua-sebagai-teroris?page=all&utm_medium=all-page\""
      ],
      "execution_count": 39,
      "outputs": []
    },
    {
      "cell_type": "code",
      "metadata": {
        "id": "zsXOfQSUfhe4"
      },
      "source": [
        "# convert response to text\n",
        "response1 = requests.get(url1).text\n",
        "response2 = requests.get(url2).text"
      ],
      "execution_count": 40,
      "outputs": []
    },
    {
      "cell_type": "code",
      "metadata": {
        "id": "x_hEHbM8jd28"
      },
      "source": [
        "# convert response to object\n",
        "content1 = BeautifulSoup(response1, 'html.parser')\n",
        "content2 = BeautifulSoup(response2, 'html.parser')"
      ],
      "execution_count": null,
      "outputs": []
    },
    {
      "cell_type": "code",
      "metadata": {
        "id": "3YAkbrS65bDS"
      },
      "source": [
        "# function list to string\n",
        "def listToString(s):\n",
        "  str = \"\"\n",
        "  for element in s:\n",
        "    str += \"\\n\" + \"\".join(element.findAll(text = True))\n",
        "  \n",
        "  return str"
      ],
      "execution_count": 84,
      "outputs": []
    },
    {
      "cell_type": "code",
      "metadata": {
        "id": "i8d4pUCzuCfJ"
      },
      "source": [
        "# get data from media 1\n",
        "htmlContent1 = content1.find(\"div\", {\"class\", \"detail__body-text itp_bodycontent\"}).findAll(\"p\")\n",
        "data1 = listToString(htmlContent1)"
      ],
      "execution_count": null,
      "outputs": []
    },
    {
      "cell_type": "code",
      "metadata": {
        "colab": {
          "base_uri": "https://localhost:8080/"
        },
        "id": "me1JFrtv46X6",
        "outputId": "249e724d-2fb1-485d-ad5e-66ec663c2860"
      },
      "source": [
        "# get data from media 2\n",
        "htmlContent2 = content2.find(\"div\", {\"id\" : \"article-detail-content\"}).findAll(\"p\")\n",
        "data2 = listToString(htmlContent2)"
      ],
      "execution_count": 87,
      "outputs": [
        {
          "output_type": "stream",
          "text": [
            "\n",
            "VIVA – Pemerintah resmi menamai kelompok kriminal bersenjata (KKB) di Papua sebagai teroris. Pengumuman itu disampaikan langsung oleh Menteri Koordinator Bidang Politik, Hukum dan Keamanan Mahfud MD di kantornya, Jakarta.\n",
            "\"Maka pemerintah menganggap bahwa organisasi dan orang-orang di Papua yang melakukan kekerasan masif dikategorikan sebagai teroris,\" kata Mahfud, Kamis 29 April 2021.\n",
            "Kata Mahfud, pertimbangan itu diambil sejalan dengan pernyataan Ketua MPR Bambang Soesatyo, baru-baru, kemudian dikuatkan dengan argumen yang dikeluarkan BIN, TNI dan Polri. Bahwasanya, pemerintah perlu mengambil tindakan untuk mengimbangi kekuatan bersenjata di wilayah Timur Indonesia tersebut. Kata Mahfud juga, tokoh-tokoh di Papua juga mendukung langkah pemerintah.\n",
            "\"Oleh sebab itu, setiap kekerasan, tindak kekerasan, yang memenuhi unsur-unsur UU Nomor 5 Tahun 2018 kita nyatakan sebagai gerakan teror dan secara hukum pula kami akan segera memprosesnya sebagai gerakan terorisme yang tercatat di dalam agenda hukum kita,\" kata Mahfud.\n",
            "Dalam beberapa bulan terakhir memang, eskalasi kekerasan di Papua meningkat. Terjadi pembakaran sekolah, pembunuhan terhadap guru hingga mencapai puncaknya, baru - baru ini, Kepala BIN Daerah Papua Mayjen TNI (Anumerta) I Gusti Putu Danny Nugraha Karya tertembak hingga meninggal dunia.\n",
            "Saat itu Putu Danny disebut tengah menjalani observasi lapangan dengan jajaran beberapa satuan tugas dan terjadi kontak senjata.\n",
            "Baca juga: Bamsoet Siap Tanggungjawab soal Musnahkan KKB, Urusan HAM Belakangan\n"
          ],
          "name": "stdout"
        }
      ]
    }
  ]
}